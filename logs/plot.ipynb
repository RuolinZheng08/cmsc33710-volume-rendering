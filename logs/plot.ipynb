{
 "cells": [
  {
   "cell_type": "code",
   "execution_count": 2,
   "metadata": {},
   "outputs": [],
   "source": [
    "import re\n",
    "import numpy as np\n",
    "import pandas as pd\n",
    "import matplotlib.pyplot as plt\n",
    "import seaborn as sns"
   ]
  },
  {
   "cell_type": "code",
   "execution_count": 212,
   "metadata": {},
   "outputs": [],
   "source": [
    "plt.style.use('ggplot')"
   ]
  },
  {
   "cell_type": "code",
   "execution_count": 84,
   "metadata": {},
   "outputs": [],
   "source": [
    "from datetime import datetime\n",
    "import time"
   ]
  },
  {
   "cell_type": "code",
   "execution_count": 4,
   "metadata": {},
   "outputs": [],
   "source": [
    "with open('slurm.log', 'rt') as f:\n",
    "    txt = f.read()"
   ]
  },
  {
   "cell_type": "code",
   "execution_count": 12,
   "metadata": {},
   "outputs": [],
   "source": [
    "c_dim = [100, 150, 200, 250]\n",
    "py_dim = [10, 15, 20, 25]"
   ]
  },
  {
   "cell_type": "markdown",
   "metadata": {},
   "source": [
    "```\n",
    "rendr go: 0.653288007 seconds to render (w/ 0 threads) to cube-rgb.nrrd\n",
    "```"
   ]
  },
  {
   "cell_type": "code",
   "execution_count": 113,
   "metadata": {},
   "outputs": [],
   "source": [
    "seconds = re.findall(r'(\\d+\\.?\\d*?) seconds', txt)\n",
    "seconds = [float(s) for s in seconds]"
   ]
  },
  {
   "cell_type": "code",
   "execution_count": 13,
   "metadata": {
    "scrolled": true
   },
   "outputs": [
    {
     "data": {
      "text/plain": [
       "40"
      ]
     },
     "execution_count": 13,
     "metadata": {},
     "output_type": "execute_result"
    }
   ],
   "source": [
    "len(seconds) # 4 dims * 10 trials"
   ]
  },
  {
   "cell_type": "markdown",
   "metadata": {},
   "source": [
    "```\n",
    "100%|██████████| 10/10 [00:34<00:00,  3.25s/it]\n",
    "100%|██████████| 10/10 [00:34<00:00,  3.46s/it]\n",
    "```"
   ]
  },
  {
   "cell_type": "code",
   "execution_count": 60,
   "metadata": {},
   "outputs": [],
   "source": [
    "# find those below 1 min\n",
    "pat = r'100\\%.*?(\\d{2}/\\d{2} \\[00:[1-9]\\d)<\\d{2}'\n",
    "formatted_time = re.findall(pat, txt)"
   ]
  },
  {
   "cell_type": "code",
   "execution_count": 63,
   "metadata": {
    "scrolled": false
   },
   "outputs": [
    {
     "data": {
      "text/plain": [
       "20"
      ]
     },
     "execution_count": 63,
     "metadata": {},
     "output_type": "execute_result"
    }
   ],
   "source": [
    "len(formatted_time) # 1 dims * 10 trials * replicates"
   ]
  },
  {
   "cell_type": "code",
   "execution_count": 55,
   "metadata": {},
   "outputs": [],
   "source": [
    "pat2 = r'100\\%.*?(\\d{2}/\\d{2} \\[\\d[1-9]:\\d{2})<\\d{2}'\n",
    "formatted_time2 = re.findall(pat2, txt)"
   ]
  },
  {
   "cell_type": "code",
   "execution_count": 56,
   "metadata": {},
   "outputs": [
    {
     "data": {
      "text/plain": [
       "60"
      ]
     },
     "execution_count": 56,
     "metadata": {},
     "output_type": "execute_result"
    }
   ],
   "source": [
    "len(formatted_time2)"
   ]
  },
  {
   "cell_type": "code",
   "execution_count": 62,
   "metadata": {
    "collapsed": true
   },
   "outputs": [
    {
     "data": {
      "text/plain": [
       "['10/10 [00:34',\n",
       " '10/10 [00:34',\n",
       " '10/10 [00:33',\n",
       " '10/10 [00:33',\n",
       " '10/10 [00:31',\n",
       " '10/10 [00:31',\n",
       " '10/10 [00:32',\n",
       " '10/10 [00:32',\n",
       " '10/10 [00:32',\n",
       " '10/10 [00:32',\n",
       " '10/10 [00:35',\n",
       " '10/10 [00:35',\n",
       " '10/10 [00:31',\n",
       " '10/10 [00:31',\n",
       " '10/10 [00:35',\n",
       " '10/10 [00:35',\n",
       " '10/10 [00:32',\n",
       " '10/10 [00:32',\n",
       " '10/10 [00:31',\n",
       " '10/10 [00:31']"
      ]
     },
     "execution_count": 62,
     "metadata": {},
     "output_type": "execute_result"
    }
   ],
   "source": [
    "formatted_time"
   ]
  },
  {
   "cell_type": "code",
   "execution_count": 57,
   "metadata": {
    "collapsed": true
   },
   "outputs": [
    {
     "data": {
      "text/plain": [
       "['15/15 [01:13',\n",
       " '15/15 [01:13',\n",
       " '15/15 [01:10',\n",
       " '15/15 [01:10',\n",
       " '15/15 [01:13',\n",
       " '15/15 [01:13',\n",
       " '15/15 [01:10',\n",
       " '15/15 [01:10',\n",
       " '15/15 [01:11',\n",
       " '15/15 [01:11',\n",
       " '15/15 [01:18',\n",
       " '15/15 [01:18',\n",
       " '15/15 [01:11',\n",
       " '15/15 [01:11',\n",
       " '15/15 [01:11',\n",
       " '15/15 [01:11',\n",
       " '15/15 [01:10',\n",
       " '15/15 [01:10',\n",
       " '15/15 [01:11',\n",
       " '15/15 [01:11',\n",
       " '20/20 [02:11',\n",
       " '20/20 [02:11',\n",
       " '20/20 [02:21',\n",
       " '20/20 [02:21',\n",
       " '20/20 [02:08',\n",
       " '20/20 [02:08',\n",
       " '20/20 [02:07',\n",
       " '20/20 [02:07',\n",
       " '20/20 [02:06',\n",
       " '20/20 [02:06',\n",
       " '20/20 [02:22',\n",
       " '20/20 [02:22',\n",
       " '20/20 [02:08',\n",
       " '20/20 [02:08',\n",
       " '20/20 [02:07',\n",
       " '20/20 [02:07',\n",
       " '20/20 [02:05',\n",
       " '20/20 [02:05',\n",
       " '20/20 [02:06',\n",
       " '20/20 [02:06',\n",
       " '25/25 [03:18',\n",
       " '25/25 [03:18',\n",
       " '25/25 [03:20',\n",
       " '25/25 [03:20',\n",
       " '25/25 [03:15',\n",
       " '25/25 [03:15',\n",
       " '25/25 [03:19',\n",
       " '25/25 [03:19',\n",
       " '25/25 [03:21',\n",
       " '25/25 [03:21',\n",
       " '25/25 [03:16',\n",
       " '25/25 [03:16',\n",
       " '25/25 [03:20',\n",
       " '25/25 [03:20',\n",
       " '25/25 [03:40',\n",
       " '25/25 [03:40',\n",
       " '25/25 [03:16',\n",
       " '25/25 [03:16',\n",
       " '25/25 [03:18',\n",
       " '25/25 [03:18']"
      ]
     },
     "execution_count": 57,
     "metadata": {},
     "output_type": "execute_result"
    }
   ],
   "source": [
    "formatted_time2"
   ]
  },
  {
   "cell_type": "code",
   "execution_count": 91,
   "metadata": {},
   "outputs": [],
   "source": [
    "def strip_time(s):\n",
    "    d = datetime.strptime(s, '%M:%S')\n",
    "    return d.minute * 60 + d.second"
   ]
  },
  {
   "cell_type": "code",
   "execution_count": 92,
   "metadata": {},
   "outputs": [
    {
     "data": {
      "text/plain": [
       "(34, 94)"
      ]
     },
     "execution_count": 92,
     "metadata": {},
     "output_type": "execute_result"
    }
   ],
   "source": [
    "strip_time('00:34'), strip_time('01:34')"
   ]
  },
  {
   "cell_type": "code",
   "execution_count": 64,
   "metadata": {},
   "outputs": [],
   "source": [
    "pat = r'100\\%.*?(00:[1-9]\\d)<\\d{2}'\n",
    "formatted_time = re.findall(pat, txt)"
   ]
  },
  {
   "cell_type": "code",
   "execution_count": 94,
   "metadata": {},
   "outputs": [
    {
     "data": {
      "text/plain": [
       "10"
      ]
     },
     "execution_count": 94,
     "metadata": {},
     "output_type": "execute_result"
    }
   ],
   "source": [
    "dim10 = formatted_time[::2]\n",
    "dim10 = [strip_time(s) for s in dim10]\n",
    "len(dim10)"
   ]
  },
  {
   "cell_type": "code",
   "execution_count": 71,
   "metadata": {},
   "outputs": [],
   "source": [
    "pat2 = r'100\\%.*?(\\d[1-9]:\\d{2})<\\d{2}'\n",
    "formatted_time2 = re.findall(pat2, txt)"
   ]
  },
  {
   "cell_type": "code",
   "execution_count": 95,
   "metadata": {
    "scrolled": true
   },
   "outputs": [
    {
     "data": {
      "text/plain": [
       "30"
      ]
     },
     "execution_count": 95,
     "metadata": {},
     "output_type": "execute_result"
    }
   ],
   "source": [
    "dims = formatted_time2[::2]\n",
    "dims = [strip_time(s) for s in dims]\n",
    "len(dims)"
   ]
  },
  {
   "cell_type": "code",
   "execution_count": 114,
   "metadata": {},
   "outputs": [],
   "source": [
    "c_df = pd.DataFrame({\n",
    "    '100': seconds[:10],\n",
    "    '150': seconds[10:20],\n",
    "    '200': seconds[20:30],\n",
    "    '250': seconds[30:]\n",
    "})"
   ]
  },
  {
   "cell_type": "code",
   "execution_count": 117,
   "metadata": {},
   "outputs": [
    {
     "data": {
      "text/html": [
       "<div>\n",
       "<style scoped>\n",
       "    .dataframe tbody tr th:only-of-type {\n",
       "        vertical-align: middle;\n",
       "    }\n",
       "\n",
       "    .dataframe tbody tr th {\n",
       "        vertical-align: top;\n",
       "    }\n",
       "\n",
       "    .dataframe thead th {\n",
       "        text-align: right;\n",
       "    }\n",
       "</style>\n",
       "<table border=\"1\" class=\"dataframe\">\n",
       "  <thead>\n",
       "    <tr style=\"text-align: right;\">\n",
       "      <th></th>\n",
       "      <th>100</th>\n",
       "      <th>150</th>\n",
       "      <th>200</th>\n",
       "      <th>250</th>\n",
       "    </tr>\n",
       "  </thead>\n",
       "  <tbody>\n",
       "    <tr>\n",
       "      <th>0</th>\n",
       "      <td>0.656447</td>\n",
       "      <td>1.471674</td>\n",
       "      <td>2.615773</td>\n",
       "      <td>4.096958</td>\n",
       "    </tr>\n",
       "    <tr>\n",
       "      <th>1</th>\n",
       "      <td>0.653288</td>\n",
       "      <td>1.507441</td>\n",
       "      <td>2.615707</td>\n",
       "      <td>4.173544</td>\n",
       "    </tr>\n",
       "    <tr>\n",
       "      <th>2</th>\n",
       "      <td>0.655002</td>\n",
       "      <td>1.472529</td>\n",
       "      <td>2.619202</td>\n",
       "      <td>4.091317</td>\n",
       "    </tr>\n",
       "    <tr>\n",
       "      <th>3</th>\n",
       "      <td>0.659233</td>\n",
       "      <td>1.477854</td>\n",
       "      <td>2.615125</td>\n",
       "      <td>4.096171</td>\n",
       "    </tr>\n",
       "    <tr>\n",
       "      <th>4</th>\n",
       "      <td>0.655587</td>\n",
       "      <td>1.471716</td>\n",
       "      <td>2.618425</td>\n",
       "      <td>4.107766</td>\n",
       "    </tr>\n",
       "    <tr>\n",
       "      <th>5</th>\n",
       "      <td>0.655272</td>\n",
       "      <td>1.481416</td>\n",
       "      <td>2.616183</td>\n",
       "      <td>4.171702</td>\n",
       "    </tr>\n",
       "    <tr>\n",
       "      <th>6</th>\n",
       "      <td>0.673096</td>\n",
       "      <td>1.471608</td>\n",
       "      <td>2.664417</td>\n",
       "      <td>4.086665</td>\n",
       "    </tr>\n",
       "    <tr>\n",
       "      <th>7</th>\n",
       "      <td>0.654556</td>\n",
       "      <td>1.476214</td>\n",
       "      <td>2.618265</td>\n",
       "      <td>4.099706</td>\n",
       "    </tr>\n",
       "    <tr>\n",
       "      <th>8</th>\n",
       "      <td>0.654009</td>\n",
       "      <td>1.477941</td>\n",
       "      <td>2.617197</td>\n",
       "      <td>4.088285</td>\n",
       "    </tr>\n",
       "    <tr>\n",
       "      <th>9</th>\n",
       "      <td>0.665119</td>\n",
       "      <td>1.473059</td>\n",
       "      <td>2.616636</td>\n",
       "      <td>4.111863</td>\n",
       "    </tr>\n",
       "  </tbody>\n",
       "</table>\n",
       "</div>"
      ],
      "text/plain": [
       "        100       150       200       250\n",
       "0  0.656447  1.471674  2.615773  4.096958\n",
       "1  0.653288  1.507441  2.615707  4.173544\n",
       "2  0.655002  1.472529  2.619202  4.091317\n",
       "3  0.659233  1.477854  2.615125  4.096171\n",
       "4  0.655587  1.471716  2.618425  4.107766\n",
       "5  0.655272  1.481416  2.616183  4.171702\n",
       "6  0.673096  1.471608  2.664417  4.086665\n",
       "7  0.654556  1.476214  2.618265  4.099706\n",
       "8  0.654009  1.477941  2.617197  4.088285\n",
       "9  0.665119  1.473059  2.616636  4.111863"
      ]
     },
     "execution_count": 117,
     "metadata": {},
     "output_type": "execute_result"
    }
   ],
   "source": [
    "c_df"
   ]
  },
  {
   "cell_type": "code",
   "execution_count": 118,
   "metadata": {},
   "outputs": [],
   "source": [
    "py_df = pd.DataFrame({\n",
    "    '10': dim10,\n",
    "    '15': dims[:10],\n",
    "    '20': dims[10:20],\n",
    "    '25': dims[20:]\n",
    "})"
   ]
  },
  {
   "cell_type": "code",
   "execution_count": 119,
   "metadata": {},
   "outputs": [
    {
     "data": {
      "text/html": [
       "<div>\n",
       "<style scoped>\n",
       "    .dataframe tbody tr th:only-of-type {\n",
       "        vertical-align: middle;\n",
       "    }\n",
       "\n",
       "    .dataframe tbody tr th {\n",
       "        vertical-align: top;\n",
       "    }\n",
       "\n",
       "    .dataframe thead th {\n",
       "        text-align: right;\n",
       "    }\n",
       "</style>\n",
       "<table border=\"1\" class=\"dataframe\">\n",
       "  <thead>\n",
       "    <tr style=\"text-align: right;\">\n",
       "      <th></th>\n",
       "      <th>10</th>\n",
       "      <th>15</th>\n",
       "      <th>20</th>\n",
       "      <th>25</th>\n",
       "    </tr>\n",
       "  </thead>\n",
       "  <tbody>\n",
       "    <tr>\n",
       "      <th>0</th>\n",
       "      <td>34</td>\n",
       "      <td>73</td>\n",
       "      <td>131</td>\n",
       "      <td>198</td>\n",
       "    </tr>\n",
       "    <tr>\n",
       "      <th>1</th>\n",
       "      <td>33</td>\n",
       "      <td>70</td>\n",
       "      <td>141</td>\n",
       "      <td>200</td>\n",
       "    </tr>\n",
       "    <tr>\n",
       "      <th>2</th>\n",
       "      <td>31</td>\n",
       "      <td>73</td>\n",
       "      <td>128</td>\n",
       "      <td>195</td>\n",
       "    </tr>\n",
       "    <tr>\n",
       "      <th>3</th>\n",
       "      <td>32</td>\n",
       "      <td>70</td>\n",
       "      <td>127</td>\n",
       "      <td>199</td>\n",
       "    </tr>\n",
       "    <tr>\n",
       "      <th>4</th>\n",
       "      <td>32</td>\n",
       "      <td>71</td>\n",
       "      <td>126</td>\n",
       "      <td>201</td>\n",
       "    </tr>\n",
       "    <tr>\n",
       "      <th>5</th>\n",
       "      <td>35</td>\n",
       "      <td>78</td>\n",
       "      <td>142</td>\n",
       "      <td>196</td>\n",
       "    </tr>\n",
       "    <tr>\n",
       "      <th>6</th>\n",
       "      <td>31</td>\n",
       "      <td>71</td>\n",
       "      <td>128</td>\n",
       "      <td>200</td>\n",
       "    </tr>\n",
       "    <tr>\n",
       "      <th>7</th>\n",
       "      <td>35</td>\n",
       "      <td>71</td>\n",
       "      <td>127</td>\n",
       "      <td>220</td>\n",
       "    </tr>\n",
       "    <tr>\n",
       "      <th>8</th>\n",
       "      <td>32</td>\n",
       "      <td>70</td>\n",
       "      <td>125</td>\n",
       "      <td>196</td>\n",
       "    </tr>\n",
       "    <tr>\n",
       "      <th>9</th>\n",
       "      <td>31</td>\n",
       "      <td>71</td>\n",
       "      <td>126</td>\n",
       "      <td>198</td>\n",
       "    </tr>\n",
       "  </tbody>\n",
       "</table>\n",
       "</div>"
      ],
      "text/plain": [
       "   10  15   20   25\n",
       "0  34  73  131  198\n",
       "1  33  70  141  200\n",
       "2  31  73  128  195\n",
       "3  32  70  127  199\n",
       "4  32  71  126  201\n",
       "5  35  78  142  196\n",
       "6  31  71  128  200\n",
       "7  35  71  127  220\n",
       "8  32  70  125  196\n",
       "9  31  71  126  198"
      ]
     },
     "execution_count": 119,
     "metadata": {},
     "output_type": "execute_result"
    }
   ],
   "source": [
    "py_df"
   ]
  },
  {
   "cell_type": "code",
   "execution_count": 120,
   "metadata": {},
   "outputs": [],
   "source": [
    "c_df['trial'] = range(1, 11)\n",
    "py_df['trial'] = range(1, 11)"
   ]
  },
  {
   "cell_type": "code",
   "execution_count": 121,
   "metadata": {},
   "outputs": [],
   "source": [
    "concat = pd.concat([\n",
    "    c_df.melt(id_vars='trial').assign(source='c'),\n",
    "    py_df.melt(id_vars='trial').assign(source='py')\n",
    "])"
   ]
  },
  {
   "cell_type": "code",
   "execution_count": 122,
   "metadata": {},
   "outputs": [
    {
     "data": {
      "text/plain": [
       "<matplotlib.axes._subplots.AxesSubplot at 0x7f3dc4feae20>"
      ]
     },
     "execution_count": 122,
     "metadata": {},
     "output_type": "execute_result"
    },
    {
     "data": {
      "image/png": "[encoded data removed]",
      "text/plain": [
       "<Figure size 432x288 with 1 Axes>"
      ]
     },
     "metadata": {
      "needs_background": "light"
     },
     "output_type": "display_data"
    }
   ],
   "source": [
    "sns.scatterplot(data=concat[concat.source == 'c'],\n",
    "                x='variable', y='value')"
   ]
  },
  {
   "cell_type": "code",
   "execution_count": 123,
   "metadata": {},
   "outputs": [
    {
     "data": {
      "text/plain": [
       "<matplotlib.axes._subplots.AxesSubplot at 0x7f3dc4fc2f40>"
      ]
     },
     "execution_count": 123,
     "metadata": {},
     "output_type": "execute_result"
    },
    {
     "data": {
      "image/png": "[encoded data removed]",
      "text/plain": [
       "<Figure size 432x288 with 1 Axes>"
      ]
     },
     "metadata": {
      "needs_background": "light"
     },
     "output_type": "display_data"
    }
   ],
   "source": [
    "sns.scatterplot(data=concat[concat.source == 'py'],\n",
    "                x='variable', y='value')"
   ]
  },
  {
   "cell_type": "code",
   "execution_count": 124,
   "metadata": {},
   "outputs": [
    {
     "data": {
      "text/html": [
       "<div>\n",
       "<style scoped>\n",
       "    .dataframe tbody tr th:only-of-type {\n",
       "        vertical-align: middle;\n",
       "    }\n",
       "\n",
       "    .dataframe tbody tr th {\n",
       "        vertical-align: top;\n",
       "    }\n",
       "\n",
       "    .dataframe thead th {\n",
       "        text-align: right;\n",
       "    }\n",
       "</style>\n",
       "<table border=\"1\" class=\"dataframe\">\n",
       "  <thead>\n",
       "    <tr style=\"text-align: right;\">\n",
       "      <th></th>\n",
       "      <th>trial</th>\n",
       "      <th>variable</th>\n",
       "      <th>value</th>\n",
       "      <th>source</th>\n",
       "    </tr>\n",
       "  </thead>\n",
       "  <tbody>\n",
       "    <tr>\n",
       "      <th>0</th>\n",
       "      <td>1</td>\n",
       "      <td>100</td>\n",
       "      <td>0.656447</td>\n",
       "      <td>c</td>\n",
       "    </tr>\n",
       "    <tr>\n",
       "      <th>1</th>\n",
       "      <td>2</td>\n",
       "      <td>100</td>\n",
       "      <td>0.653288</td>\n",
       "      <td>c</td>\n",
       "    </tr>\n",
       "    <tr>\n",
       "      <th>2</th>\n",
       "      <td>3</td>\n",
       "      <td>100</td>\n",
       "      <td>0.655002</td>\n",
       "      <td>c</td>\n",
       "    </tr>\n",
       "    <tr>\n",
       "      <th>3</th>\n",
       "      <td>4</td>\n",
       "      <td>100</td>\n",
       "      <td>0.659233</td>\n",
       "      <td>c</td>\n",
       "    </tr>\n",
       "    <tr>\n",
       "      <th>4</th>\n",
       "      <td>5</td>\n",
       "      <td>100</td>\n",
       "      <td>0.655587</td>\n",
       "      <td>c</td>\n",
       "    </tr>\n",
       "    <tr>\n",
       "      <th>...</th>\n",
       "      <td>...</td>\n",
       "      <td>...</td>\n",
       "      <td>...</td>\n",
       "      <td>...</td>\n",
       "    </tr>\n",
       "    <tr>\n",
       "      <th>35</th>\n",
       "      <td>6</td>\n",
       "      <td>25</td>\n",
       "      <td>196.000000</td>\n",
       "      <td>py</td>\n",
       "    </tr>\n",
       "    <tr>\n",
       "      <th>36</th>\n",
       "      <td>7</td>\n",
       "      <td>25</td>\n",
       "      <td>200.000000</td>\n",
       "      <td>py</td>\n",
       "    </tr>\n",
       "    <tr>\n",
       "      <th>37</th>\n",
       "      <td>8</td>\n",
       "      <td>25</td>\n",
       "      <td>220.000000</td>\n",
       "      <td>py</td>\n",
       "    </tr>\n",
       "    <tr>\n",
       "      <th>38</th>\n",
       "      <td>9</td>\n",
       "      <td>25</td>\n",
       "      <td>196.000000</td>\n",
       "      <td>py</td>\n",
       "    </tr>\n",
       "    <tr>\n",
       "      <th>39</th>\n",
       "      <td>10</td>\n",
       "      <td>25</td>\n",
       "      <td>198.000000</td>\n",
       "      <td>py</td>\n",
       "    </tr>\n",
       "  </tbody>\n",
       "</table>\n",
       "<p>80 rows × 4 columns</p>\n",
       "</div>"
      ],
      "text/plain": [
       "    trial variable       value source\n",
       "0       1      100    0.656447      c\n",
       "1       2      100    0.653288      c\n",
       "2       3      100    0.655002      c\n",
       "3       4      100    0.659233      c\n",
       "4       5      100    0.655587      c\n",
       "..    ...      ...         ...    ...\n",
       "35      6       25  196.000000     py\n",
       "36      7       25  200.000000     py\n",
       "37      8       25  220.000000     py\n",
       "38      9       25  196.000000     py\n",
       "39     10       25  198.000000     py\n",
       "\n",
       "[80 rows x 4 columns]"
      ]
     },
     "execution_count": 124,
     "metadata": {},
     "output_type": "execute_result"
    }
   ],
   "source": [
    "concat"
   ]
  },
  {
   "cell_type": "code",
   "execution_count": 125,
   "metadata": {},
   "outputs": [],
   "source": [
    "# min-max normalization\n",
    "def normalize(col):\n",
    "    return (col - col.min()) / (col.max() - col.min())"
   ]
  },
  {
   "cell_type": "code",
   "execution_count": 129,
   "metadata": {},
   "outputs": [],
   "source": [
    "c_normalized = c_df.melt(id_vars='trial')\n",
    "c_normalized.variable = c_normalized.variable.astype(int) / 100\n",
    "c_normalized.value = normalize(c_normalized.value)"
   ]
  },
  {
   "cell_type": "code",
   "execution_count": 132,
   "metadata": {},
   "outputs": [],
   "source": [
    "py_normalized = py_df.melt(id_vars='trial')\n",
    "py_normalized.variable = py_normalized.variable.astype(int) / 10\n",
    "py_normalized.value = normalize(py_normalized.value)"
   ]
  },
  {
   "cell_type": "code",
   "execution_count": 143,
   "metadata": {},
   "outputs": [],
   "source": [
    "concat_norm = pd.concat([\n",
    "    c_normalized.assign(source='C'),\n",
    "    py_normalized.assign(source='Python')\n",
    "])"
   ]
  },
  {
   "cell_type": "code",
   "execution_count": 213,
   "metadata": {},
   "outputs": [
    {
     "data": {
      "text/plain": [
       "<matplotlib.axes._subplots.AxesSubplot at 0x7f3dbca50d30>"
      ]
     },
     "execution_count": 213,
     "metadata": {},
     "output_type": "execute_result"
    },
    {
     "data": {
      "image/png": "[encoded data removed]",
      "text/plain": [
       "<Figure size 432x288 with 1 Axes>"
      ]
     },
     "metadata": {},
     "output_type": "display_data"
    }
   ],
   "source": [
    "sns.scatterplot(data=concat_norm, x='variable', y='value', \n",
    "                hue='source', alpha=0.4)"
   ]
  },
  {
   "cell_type": "code",
   "execution_count": 216,
   "metadata": {
    "scrolled": true
   },
   "outputs": [
    {
     "data": {
      "text/plain": [
       "[Text(0, 0.5, 'Normalized runtime'),\n",
       " Text(0.5, 0, 'Scale of side length of output image')]"
      ]
     },
     "execution_count": 216,
     "metadata": {},
     "output_type": "execute_result"
    },
    {
     "data": {
      "image/png": "[encoded data removed]",
      "text/plain": [
       "<Figure size 432x288 with 1 Axes>"
      ]
     },
     "metadata": {},
     "output_type": "display_data"
    }
   ],
   "source": [
    "ax = sns.stripplot(data=concat_norm, x='variable', y='value', \n",
    "                hue='source', alpha=0.7)\n",
    "ax.set(xlabel='Scale of side length of output image',\n",
    "       ylabel='Normalized runtime')"
   ]
  },
  {
   "cell_type": "markdown",
   "metadata": {},
   "source": [
    "We may conclude that both the program runtime of the C code and the Python code scale roughly similarly as the side length of the output image."
   ]
  },
  {
   "cell_type": "code",
   "execution_count": 155,
   "metadata": {},
   "outputs": [],
   "source": [
    "# some data tables\n",
    "avg = concat.groupby(['variable', 'source']).mean().reset_index()\n",
    "avg.variable = avg.variable.astype(int)\n",
    "avg.drop(columns='trial', inplace=True)\n",
    "avg.sort_values(by=['variable', 'source'], inplace=True)\n",
    "avg.loc[avg.source == 'py', 'source'] = 'Python'\n",
    "avg.loc[avg.source == 'c', 'source'] = 'C'\n",
    "avg.columns = ['Output length', 'Source', 'Runtime (seconds)']"
   ]
  },
  {
   "cell_type": "code",
   "execution_count": 156,
   "metadata": {},
   "outputs": [
    {
     "data": {
      "text/html": [
       "<div>\n",
       "<style scoped>\n",
       "    .dataframe tbody tr th:only-of-type {\n",
       "        vertical-align: middle;\n",
       "    }\n",
       "\n",
       "    .dataframe tbody tr th {\n",
       "        vertical-align: top;\n",
       "    }\n",
       "\n",
       "    .dataframe thead th {\n",
       "        text-align: right;\n",
       "    }\n",
       "</style>\n",
       "<table border=\"1\" class=\"dataframe\">\n",
       "  <thead>\n",
       "    <tr style=\"text-align: right;\">\n",
       "      <th></th>\n",
       "      <th>Output length</th>\n",
       "      <th>Source</th>\n",
       "      <th>Runtime (seconds)</th>\n",
       "    </tr>\n",
       "  </thead>\n",
       "  <tbody>\n",
       "    <tr>\n",
       "      <th>0</th>\n",
       "      <td>10</td>\n",
       "      <td>Python</td>\n",
       "      <td>32.600000</td>\n",
       "    </tr>\n",
       "    <tr>\n",
       "      <th>2</th>\n",
       "      <td>15</td>\n",
       "      <td>Python</td>\n",
       "      <td>71.800000</td>\n",
       "    </tr>\n",
       "    <tr>\n",
       "      <th>4</th>\n",
       "      <td>20</td>\n",
       "      <td>Python</td>\n",
       "      <td>130.100000</td>\n",
       "    </tr>\n",
       "    <tr>\n",
       "      <th>6</th>\n",
       "      <td>25</td>\n",
       "      <td>Python</td>\n",
       "      <td>200.300000</td>\n",
       "    </tr>\n",
       "    <tr>\n",
       "      <th>1</th>\n",
       "      <td>100</td>\n",
       "      <td>C</td>\n",
       "      <td>0.658161</td>\n",
       "    </tr>\n",
       "    <tr>\n",
       "      <th>3</th>\n",
       "      <td>150</td>\n",
       "      <td>C</td>\n",
       "      <td>1.478145</td>\n",
       "    </tr>\n",
       "    <tr>\n",
       "      <th>5</th>\n",
       "      <td>200</td>\n",
       "      <td>C</td>\n",
       "      <td>2.621693</td>\n",
       "    </tr>\n",
       "    <tr>\n",
       "      <th>7</th>\n",
       "      <td>250</td>\n",
       "      <td>C</td>\n",
       "      <td>4.112398</td>\n",
       "    </tr>\n",
       "  </tbody>\n",
       "</table>\n",
       "</div>"
      ],
      "text/plain": [
       "   Output length  Source  Runtime (seconds)\n",
       "0             10  Python          32.600000\n",
       "2             15  Python          71.800000\n",
       "4             20  Python         130.100000\n",
       "6             25  Python         200.300000\n",
       "1            100       C           0.658161\n",
       "3            150       C           1.478145\n",
       "5            200       C           2.621693\n",
       "7            250       C           4.112398"
      ]
     },
     "execution_count": 156,
     "metadata": {},
     "output_type": "execute_result"
    }
   ],
   "source": [
    "avg"
   ]
  },
  {
   "cell_type": "code",
   "execution_count": 158,
   "metadata": {},
   "outputs": [
    {
     "name": "stdout",
     "output_type": "stream",
     "text": [
      "\\begin{tabular}{rlr}\n",
      "\\toprule\n",
      " Output length & Source &  Runtime (seconds) \\\\\n",
      "\\midrule\n",
      "            10 & Python &          32.600000 \\\\\n",
      "            15 & Python &          71.800000 \\\\\n",
      "            20 & Python &         130.100000 \\\\\n",
      "            25 & Python &         200.300000 \\\\\n",
      "           100 &      C &           0.658161 \\\\\n",
      "           150 &      C &           1.478145 \\\\\n",
      "           200 &      C &           2.621693 \\\\\n",
      "           250 &      C &           4.112398 \\\\\n",
      "\\bottomrule\n",
      "\\end{tabular}\n",
      "\n"
     ]
    }
   ],
   "source": [
    "print(avg.to_latex(index=False))"
   ]
  },
  {
   "cell_type": "code",
   "execution_count": 179,
   "metadata": {},
   "outputs": [],
   "source": [
    "with open('c_slurm.log', 'rt') as f:\n",
    "    txt2 = f.read()"
   ]
  },
  {
   "cell_type": "code",
   "execution_count": 183,
   "metadata": {},
   "outputs": [],
   "source": [
    "seconds2 = re.findall(r'(\\d+\\.?\\d*?) seconds', txt2)"
   ]
  },
  {
   "cell_type": "code",
   "execution_count": 184,
   "metadata": {},
   "outputs": [
    {
     "data": {
      "text/plain": [
       "180"
      ]
     },
     "execution_count": 184,
     "metadata": {},
     "output_type": "execute_result"
    }
   ],
   "source": [
    "seconds2 = [float(s) for s in seconds2]\n",
    "len(seconds2)"
   ]
  },
  {
   "cell_type": "code",
   "execution_count": 188,
   "metadata": {},
   "outputs": [
    {
     "data": {
      "text/plain": [
       "0.1851089002"
      ]
     },
     "execution_count": 188,
     "metadata": {},
     "output_type": "execute_result"
    }
   ],
   "source": [
    "np.mean(seconds2[:10])"
   ]
  },
  {
   "cell_type": "code",
   "execution_count": 196,
   "metadata": {},
   "outputs": [],
   "source": [
    "sec = seconds2[10:]"
   ]
  },
  {
   "cell_type": "code",
   "execution_count": 197,
   "metadata": {},
   "outputs": [],
   "source": [
    "threads = range(0, 17)\n",
    "d = {}\n",
    "for t in threads:\n",
    "    d[t] = sec[10 * t: 10 * (t+1)]"
   ]
  },
  {
   "cell_type": "code",
   "execution_count": 198,
   "metadata": {},
   "outputs": [],
   "source": [
    "multithread = pd.DataFrame(d)"
   ]
  },
  {
   "cell_type": "code",
   "execution_count": 201,
   "metadata": {},
   "outputs": [],
   "source": [
    "multithread['trial'] = range(1, 11)"
   ]
  },
  {
   "cell_type": "code",
   "execution_count": 205,
   "metadata": {},
   "outputs": [],
   "source": [
    "melted = multithread.melt(id_vars='trial')"
   ]
  },
  {
   "cell_type": "code",
   "execution_count": 209,
   "metadata": {},
   "outputs": [],
   "source": [
    "avg_multi = melted.groupby('variable').mean().reset_index()\n",
    "avg_multi.drop(columns='trial', inplace=True)"
   ]
  },
  {
   "cell_type": "code",
   "execution_count": 210,
   "metadata": {},
   "outputs": [
    {
     "data": {
      "text/html": [
       "<div>\n",
       "<style scoped>\n",
       "    .dataframe tbody tr th:only-of-type {\n",
       "        vertical-align: middle;\n",
       "    }\n",
       "\n",
       "    .dataframe tbody tr th {\n",
       "        vertical-align: top;\n",
       "    }\n",
       "\n",
       "    .dataframe thead th {\n",
       "        text-align: right;\n",
       "    }\n",
       "</style>\n",
       "<table border=\"1\" class=\"dataframe\">\n",
       "  <thead>\n",
       "    <tr style=\"text-align: right;\">\n",
       "      <th></th>\n",
       "      <th>variable</th>\n",
       "      <th>value</th>\n",
       "    </tr>\n",
       "  </thead>\n",
       "  <tbody>\n",
       "    <tr>\n",
       "      <th>0</th>\n",
       "      <td>0</td>\n",
       "      <td>6.185676</td>\n",
       "    </tr>\n",
       "    <tr>\n",
       "      <th>1</th>\n",
       "      <td>1</td>\n",
       "      <td>6.161690</td>\n",
       "    </tr>\n",
       "    <tr>\n",
       "      <th>2</th>\n",
       "      <td>2</td>\n",
       "      <td>3.197577</td>\n",
       "    </tr>\n",
       "    <tr>\n",
       "      <th>3</th>\n",
       "      <td>3</td>\n",
       "      <td>2.161923</td>\n",
       "    </tr>\n",
       "    <tr>\n",
       "      <th>4</th>\n",
       "      <td>4</td>\n",
       "      <td>1.645350</td>\n",
       "    </tr>\n",
       "  </tbody>\n",
       "</table>\n",
       "</div>"
      ],
      "text/plain": [
       "   variable     value\n",
       "0         0  6.185676\n",
       "1         1  6.161690\n",
       "2         2  3.197577\n",
       "3         3  2.161923\n",
       "4         4  1.645350"
      ]
     },
     "execution_count": 210,
     "metadata": {},
     "output_type": "execute_result"
    }
   ],
   "source": [
    "avg_multi.head()"
   ]
  },
  {
   "cell_type": "code",
   "execution_count": 215,
   "metadata": {},
   "outputs": [
    {
     "data": {
      "text/plain": [
       "<matplotlib.axes._subplots.AxesSubplot at 0x7f3dbca3cee0>"
      ]
     },
     "execution_count": 215,
     "metadata": {},
     "output_type": "execute_result"
    },
    {
     "data": {
      "image/png": "[encoded data removed]",
      "text/plain": [
       "<Figure size 432x288 with 1 Axes>"
      ]
     },
     "metadata": {},
     "output_type": "display_data"
    }
   ],
   "source": [
    "avg_multi.plot(x='variable', y='value', xlabel='Number of threads',\n",
    "              ylabel='Runtime (seconds)')"
   ]
  },
  {
   "cell_type": "code",
   "execution_count": null,
   "metadata": {},
   "outputs": [],
   "source": []
  }
 ],
 "metadata": {
  "kernelspec": {
   "display_name": "Python 3",
   "language": "python",
   "name": "python3"
  },
  "language_info": {
   "codemirror_mode": {
    "name": "ipython",
    "version": 3
   },
   "file_extension": ".py",
   "mimetype": "text/x-python",
   "name": "python",
   "nbconvert_exporter": "python",
   "pygments_lexer": "ipython3",
   "version": "3.8.5"
  }
 },
 "nbformat": 4,
 "nbformat_minor": 4
}
